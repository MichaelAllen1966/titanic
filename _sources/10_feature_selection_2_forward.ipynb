{
 "cells": [
  {
   "cell_type": "markdown",
   "metadata": {},
   "source": [
    "# Kaggle Titanic survival - feature selection 2 (model forward selection)\n",
    "\n",
    "Reducing the number of features we use can have three benefits:\n",
    "\n",
    "* Simplifies model explanation\n",
    "* Model fit may be improved by the removal of features that add no value\n",
    "* Model will be faster to fit\n",
    "\n",
    "In this notebook we will use a model-based approach whereby we incrementally add features that most increase model performance (we could use simple accuracy, but in this case we will use ROC Area Under Curve as a more thorough analysis of performance). If you are not familiar with ROC AUC, have a look at:\n",
    "\n",
    "https://github.com/MichaelAllen1966/1804_python_healthcare/blob/master/titanic/06_roc_sensitivity_specificity.ipynb\n",
    "\n",
    "Two key advantages of this method are:\n",
    "\n",
    "* It is relatively simple.\n",
    "* It is tailored to the model in question.\n",
    "\n",
    "Some key disadvantage of this method are:\n",
    "\n",
    "* It may be slow if there are many parameters (though the loop to select features could be limited in the number of features to select).\n",
    "* The selection of features may be dependent on model meta-parameters (such as level of regularisation).\n",
    "* The selection of features may not transfer between models (e.g. a model that does not allow for feature interactions may not detect features which do not add much value independently).\n",
    "\n",
    "The machine learning model we will use to test the feature selection is as previously described:\n",
    "\n",
    "https://github.com/MichaelAllen1966/1804_python_healthcare/blob/master/titanic/02_logistic_regression.ipynb\n",
    "\n",
    "We will also assess performance using k-fold stratification for better measurement of performance. If you are not familiar with k-fold stratification, have a look at:\n",
    "\n",
    "https://github.com/MichaelAllen1966/1804_python_healthcare/blob/master/titanic/03_k_fold.ipynb"
   ]
  },
  {
   "cell_type": "markdown",
   "metadata": {},
   "source": [
    "We will go through the following steps:\n",
    "\n",
    "* Download and save pre-processed data\n",
    "* Split data into features (X) and label (y)\n",
    "* Loop through features to select the feature that most increases ROC AUC\n",
    "* Plot results"
   ]
  },
  {
   "cell_type": "markdown",
   "metadata": {},
   "source": [
    "https://scikit-learn.org/stable/modules/feature_selection.html#recursive-feature-elimination"
   ]
  },
  {
   "cell_type": "code",
   "execution_count": null,
   "metadata": {},
   "outputs": [],
   "source": [
    "# Hide warnings (to keep notebook tidy; do not usually do this)\n",
    "import warnings\n",
    "warnings.filterwarnings(\"ignore\")"
   ]
  },
  {
   "cell_type": "markdown",
   "metadata": {},
   "source": [
    "## Load modules\n",
    "\n",
    "A standard Anaconda install of Python (https://www.anaconda.com/distribution/) contains all the necessary modules."
   ]
  },
  {
   "cell_type": "code",
   "execution_count": 2,
   "metadata": {},
   "outputs": [],
   "source": [
    "import numpy as np\n",
    "import pandas as pd\n",
    "# Import machine learning methods\n",
    "from sklearn.linear_model import LogisticRegression\n",
    "from sklearn.metrics import auc\n",
    "from sklearn.metrics import roc_curve\n",
    "from sklearn.model_selection import StratifiedKFold\n",
    "from sklearn.preprocessing import StandardScaler"
   ]
  },
  {
   "cell_type": "markdown",
   "metadata": {},
   "source": [
    "## Load data\n",
    "\n",
    "The section below downloads pre-processed data, and saves it to a subfolder (from where this code is run).\n",
    "If data has already been downloaded that cell may be skipped.\n",
    "\n",
    "Code that was used to pre-process the data ready for machine learning may be found at:\n",
    "https://github.com/MichaelAllen1966/1804_python_healthcare/blob/master/titanic/01_preprocessing.ipynb"
   ]
  },
  {
   "cell_type": "code",
   "execution_count": 3,
   "metadata": {},
   "outputs": [],
   "source": [
    "download_required = True\n",
    "\n",
    "if download_required:\n",
    "    \n",
    "    # Download processed data:\n",
    "    address = 'https://raw.githubusercontent.com/MichaelAllen1966/' + \\\n",
    "                '1804_python_healthcare/master/titanic/data/processed_data.csv'\n",
    "    \n",
    "    data = pd.read_csv(address)\n",
    "\n",
    "    # Create a data subfolder if one does not already exist\n",
    "    import os\n",
    "    data_directory ='./data/'\n",
    "    if not os.path.exists(data_directory):\n",
    "        os.makedirs(data_directory)\n",
    "\n",
    "    # Save data\n",
    "    data.to_csv(data_directory + 'processed_data.csv', index=False)"
   ]
  },
  {
   "cell_type": "code",
   "execution_count": 4,
   "metadata": {},
   "outputs": [],
   "source": [
    "data = pd.read_csv('data/processed_data.csv')\n",
    "# Make all data 'float' type\n",
    "data = data.astype(float)"
   ]
  },
  {
   "cell_type": "markdown",
   "metadata": {},
   "source": [
    "The first column is a passenger index number. We will remove this, as this is not part of the original Titanic passenger data."
   ]
  },
  {
   "cell_type": "code",
   "execution_count": 5,
   "metadata": {},
   "outputs": [],
   "source": [
    "# Drop Passengerid (axis=1 indicates we are removing a column rather than a row)\n",
    "# We drop passenger ID as it is not original data\n",
    "\n",
    "data.drop('PassengerId', inplace=True, axis=1)"
   ]
  },
  {
   "cell_type": "markdown",
   "metadata": {},
   "source": [
    "## Divide into X (features) and y (labels)\n",
    "\n",
    "We will separate out our features (the data we use to make a prediction) from our label (what we are truing to predict).\n",
    "By convention our features are called `X` (usually upper case to denote multiple features), and the label (survive or not) `y`."
   ]
  },
  {
   "cell_type": "code",
   "execution_count": 6,
   "metadata": {},
   "outputs": [],
   "source": [
    "X = data.drop('Survived',axis=1) # X = all 'data' except the 'survived' column\n",
    "y = data['Survived'] # y = 'survived' column from 'data'"
   ]
  },
  {
   "cell_type": "markdown",
   "metadata": {},
   "source": [
    "## Forward feature selection"
   ]
  },
  {
   "cell_type": "markdown",
   "metadata": {},
   "source": [
    "Define data standardisation function."
   ]
  },
  {
   "cell_type": "code",
   "execution_count": 7,
   "metadata": {},
   "outputs": [],
   "source": [
    "def standardise_data(X_train, X_test):\n",
    "    \n",
    "    # Initialise a new scaling object for normalising input data\n",
    "    sc = StandardScaler() \n",
    "\n",
    "    # Set up the scaler just on the training set\n",
    "    sc.fit(X_train)\n",
    "\n",
    "    # Apply the scaler to the training and test sets\n",
    "    train_std=sc.transform(X_train)\n",
    "    test_std=sc.transform(X_test)\n",
    "    \n",
    "    return train_std, test_std"
   ]
  },
  {
   "cell_type": "markdown",
   "metadata": {},
   "source": [
    "The forward selection method:\n",
    "\n",
    "* Keeps a list of selected features\n",
    "* Keeps a list of features still available for selection\n",
    "* Loops through available features:\n",
    "    * Calculates added value for each feature (using stratified k-fold validation)\n",
    "    * Selects feature that adds most value\n",
    "    * Adds selected feature to *selected features* list and removes it from *available features* list\n",
    "    \n",
    "This method uses a `while` lop to keep exploring features until no more are available. An alternative would be to use a `for` loop with a maximum number of features to select."
   ]
  },
  {
   "cell_type": "code",
   "execution_count": 8,
   "metadata": {},
   "outputs": [
    {
     "name": "stdout",
     "output_type": "stream",
     "text": [
      "Feature run 1 of 24\n",
      "Feature run 2 of 24\n",
      "Feature run 3 of 24\n",
      "Feature run 4 of 24\n",
      "Feature run 5 of 24\n",
      "Feature run 6 of 24\n",
      "Feature run 7 of 24\n",
      "Feature run 8 of 24\n",
      "Feature run 9 of 24\n",
      "Feature run 10 of 24\n",
      "Feature run 11 of 24\n",
      "Feature run 12 of 24\n",
      "Feature run 13 of 24\n",
      "Feature run 14 of 24\n",
      "Feature run 15 of 24\n",
      "Feature run 16 of 24\n",
      "Feature run 17 of 24\n",
      "Feature run 18 of 24\n",
      "Feature run 19 of 24\n",
      "Feature run 20 of 24\n",
      "Feature run 21 of 24\n",
      "Feature run 22 of 24\n",
      "Feature run 23 of 24\n",
      "Feature run 24 of 24\n"
     ]
    }
   ],
   "source": [
    "# Create list to store accuracies and chosen features\n",
    "roc_auc_by_feature_number = []\n",
    "chosen_features = []\n",
    "\n",
    "# Initialise chosen features list and run tracker\n",
    "available_features = list(X)\n",
    "run = 0\n",
    "number_of_features = len(list(X))\n",
    "\n",
    "# Loop through feature list to select next feature\n",
    "while len(available_features)> 0:\n",
    "\n",
    "    # Track and pront progress\n",
    "    run += 1\n",
    "    print ('Feature run {} of {}'.format(run, number_of_features))\n",
    "    \n",
    "    # Convert DataFrames to NumPy arrays\n",
    "    y_np = y.values\n",
    "    \n",
    "    # Reset best feature and accuracy\n",
    "    best_result = 0\n",
    "    best_feature = ''\n",
    "\n",
    "    # Loop through available features\n",
    "    for feature in available_features:\n",
    "\n",
    "        # Create copy of already chosen features to avoid original being changed\n",
    "        features_to_use = chosen_features.copy()\n",
    "        # Create a list of features from features already chosen + 1 new feature\n",
    "        features_to_use.append(feature)\n",
    "        # Get data for features, and convert to NumPy array\n",
    "        X_np = X[features_to_use].values\n",
    "        \n",
    "        # Set up lists to hold results for each selected features\n",
    "        test_auc_results = []\n",
    "    \n",
    "        # Set up k-fold training/test splits\n",
    "        number_of_splits = 5\n",
    "        skf = StratifiedKFold(n_splits = number_of_splits)\n",
    "        skf.get_n_splits(X_np, y)\n",
    "    \n",
    "        # Loop through the k-fold splits\n",
    "        for train_index, test_index in skf.split(X_np, y_np):\n",
    "            \n",
    "            # Get X and Y train/test\n",
    "            X_train, X_test = X_np[train_index], X_np[test_index]\n",
    "            y_train, y_test = y[train_index], y[test_index]\n",
    "    \n",
    "            # Get X and Y train/test\n",
    "            X_train_std, X_test_std = standardise_data(X_train, X_test)\n",
    "    \n",
    "            # Set up and fit model\n",
    "            model = LogisticRegression(solver='lbfgs')\n",
    "            model.fit(X_train_std,y_train)\n",
    "    \n",
    "            # Predict test set labels\n",
    "            y_pred_test = model.predict(X_test_std)\n",
    "            \n",
    "            # Calculate accuracy of test sets\n",
    "            accuracy_test = np.mean(y_pred_test == y_test)\n",
    "          \n",
    "            # Get ROC AUC\n",
    "            probabilities = model.predict_proba(X_test_std)\n",
    "            probabilities = probabilities[:, 1] # Probability of 'survived'\n",
    "            fpr, tpr, thresholds = roc_curve(y_test, probabilities)\n",
    "            roc_auc = auc(fpr, tpr)\n",
    "            test_auc_results.append(roc_auc)\n",
    "        \n",
    "        # Get average result from all k-fold splits\n",
    "        feature_auc = np.mean(test_auc_results)\n",
    "    \n",
    "        # Update chosen feature and result if this feature is a new best\n",
    "        if feature_auc > best_result:\n",
    "            best_result = feature_auc\n",
    "            best_feature = feature\n",
    "    \n",
    "    # k-fold splits are complete    \n",
    "    # Add mean accuracy and AUC to record of accuracy by feature number\n",
    "    roc_auc_by_feature_number.append(best_result)\n",
    "    chosen_features.append(best_feature)\n",
    "    available_features.remove(best_feature)\n",
    "\n",
    "# Put results in DataFrame\n",
    "results = pd.DataFrame()\n",
    "results['feature to add'] = chosen_features\n",
    "results['ROC AUC'] = roc_auc_by_feature_number"
   ]
  },
  {
   "cell_type": "markdown",
   "metadata": {},
   "source": [
    "### Show results"
   ]
  },
  {
   "cell_type": "code",
   "execution_count": 9,
   "metadata": {},
   "outputs": [
    {
     "data": {
      "text/html": [
       "<div>\n",
       "<style scoped>\n",
       "    .dataframe tbody tr th:only-of-type {\n",
       "        vertical-align: middle;\n",
       "    }\n",
       "\n",
       "    .dataframe tbody tr th {\n",
       "        vertical-align: top;\n",
       "    }\n",
       "\n",
       "    .dataframe thead th {\n",
       "        text-align: right;\n",
       "    }\n",
       "</style>\n",
       "<table border=\"1\" class=\"dataframe\">\n",
       "  <thead>\n",
       "    <tr style=\"text-align: right;\">\n",
       "      <th></th>\n",
       "      <th>feature to add</th>\n",
       "      <th>ROC AUC</th>\n",
       "    </tr>\n",
       "  </thead>\n",
       "  <tbody>\n",
       "    <tr>\n",
       "      <td>0</td>\n",
       "      <td>male</td>\n",
       "      <td>0.766733</td>\n",
       "    </tr>\n",
       "    <tr>\n",
       "      <td>1</td>\n",
       "      <td>Pclass</td>\n",
       "      <td>0.833036</td>\n",
       "    </tr>\n",
       "    <tr>\n",
       "      <td>2</td>\n",
       "      <td>Age</td>\n",
       "      <td>0.843055</td>\n",
       "    </tr>\n",
       "    <tr>\n",
       "      <td>3</td>\n",
       "      <td>SibSp</td>\n",
       "      <td>0.848686</td>\n",
       "    </tr>\n",
       "    <tr>\n",
       "      <td>4</td>\n",
       "      <td>Embarked_S</td>\n",
       "      <td>0.853125</td>\n",
       "    </tr>\n",
       "    <tr>\n",
       "      <td>5</td>\n",
       "      <td>CabinLetter_E</td>\n",
       "      <td>0.855740</td>\n",
       "    </tr>\n",
       "    <tr>\n",
       "      <td>6</td>\n",
       "      <td>CabinNumberImputed</td>\n",
       "      <td>0.856158</td>\n",
       "    </tr>\n",
       "    <tr>\n",
       "      <td>7</td>\n",
       "      <td>CabinLetter_T</td>\n",
       "      <td>0.856160</td>\n",
       "    </tr>\n",
       "    <tr>\n",
       "      <td>8</td>\n",
       "      <td>CabinLetter_D</td>\n",
       "      <td>0.856167</td>\n",
       "    </tr>\n",
       "    <tr>\n",
       "      <td>9</td>\n",
       "      <td>CabinLetter_F</td>\n",
       "      <td>0.856307</td>\n",
       "    </tr>\n",
       "    <tr>\n",
       "      <td>10</td>\n",
       "      <td>EmbarkedImputed</td>\n",
       "      <td>0.856121</td>\n",
       "    </tr>\n",
       "    <tr>\n",
       "      <td>11</td>\n",
       "      <td>Embarked_missing</td>\n",
       "      <td>0.856094</td>\n",
       "    </tr>\n",
       "    <tr>\n",
       "      <td>12</td>\n",
       "      <td>CabinLetterImputed</td>\n",
       "      <td>0.855637</td>\n",
       "    </tr>\n",
       "    <tr>\n",
       "      <td>13</td>\n",
       "      <td>CabinLetter_missing</td>\n",
       "      <td>0.855744</td>\n",
       "    </tr>\n",
       "    <tr>\n",
       "      <td>14</td>\n",
       "      <td>Fare</td>\n",
       "      <td>0.855302</td>\n",
       "    </tr>\n",
       "    <tr>\n",
       "      <td>15</td>\n",
       "      <td>CabinLetter_A</td>\n",
       "      <td>0.854307</td>\n",
       "    </tr>\n",
       "    <tr>\n",
       "      <td>16</td>\n",
       "      <td>CabinLetter_B</td>\n",
       "      <td>0.853215</td>\n",
       "    </tr>\n",
       "    <tr>\n",
       "      <td>17</td>\n",
       "      <td>CabinNumber</td>\n",
       "      <td>0.852896</td>\n",
       "    </tr>\n",
       "    <tr>\n",
       "      <td>18</td>\n",
       "      <td>Embarked_C</td>\n",
       "      <td>0.851377</td>\n",
       "    </tr>\n",
       "    <tr>\n",
       "      <td>19</td>\n",
       "      <td>Embarked_Q</td>\n",
       "      <td>0.851324</td>\n",
       "    </tr>\n",
       "    <tr>\n",
       "      <td>20</td>\n",
       "      <td>CabinLetter_C</td>\n",
       "      <td>0.849972</td>\n",
       "    </tr>\n",
       "    <tr>\n",
       "      <td>21</td>\n",
       "      <td>AgeImputed</td>\n",
       "      <td>0.848673</td>\n",
       "    </tr>\n",
       "    <tr>\n",
       "      <td>22</td>\n",
       "      <td>CabinLetter_G</td>\n",
       "      <td>0.847432</td>\n",
       "    </tr>\n",
       "    <tr>\n",
       "      <td>23</td>\n",
       "      <td>Parch</td>\n",
       "      <td>0.845842</td>\n",
       "    </tr>\n",
       "  </tbody>\n",
       "</table>\n",
       "</div>"
      ],
      "text/plain": [
       "         feature to add   ROC AUC\n",
       "0                  male  0.766733\n",
       "1                Pclass  0.833036\n",
       "2                   Age  0.843055\n",
       "3                 SibSp  0.848686\n",
       "4            Embarked_S  0.853125\n",
       "5         CabinLetter_E  0.855740\n",
       "6    CabinNumberImputed  0.856158\n",
       "7         CabinLetter_T  0.856160\n",
       "8         CabinLetter_D  0.856167\n",
       "9         CabinLetter_F  0.856307\n",
       "10      EmbarkedImputed  0.856121\n",
       "11     Embarked_missing  0.856094\n",
       "12   CabinLetterImputed  0.855637\n",
       "13  CabinLetter_missing  0.855744\n",
       "14                 Fare  0.855302\n",
       "15        CabinLetter_A  0.854307\n",
       "16        CabinLetter_B  0.853215\n",
       "17          CabinNumber  0.852896\n",
       "18           Embarked_C  0.851377\n",
       "19           Embarked_Q  0.851324\n",
       "20        CabinLetter_C  0.849972\n",
       "21           AgeImputed  0.848673\n",
       "22        CabinLetter_G  0.847432\n",
       "23                Parch  0.845842"
      ]
     },
     "execution_count": 9,
     "metadata": {},
     "output_type": "execute_result"
    }
   ],
   "source": [
    "results"
   ]
  },
  {
   "cell_type": "markdown",
   "metadata": {},
   "source": [
    "### Plot results"
   ]
  },
  {
   "cell_type": "code",
   "execution_count": 10,
   "metadata": {},
   "outputs": [
    {
     "data": {
      "image/png": "[encoded data removed]",
      "text/plain": [
       "<Figure size 432x288 with 1 Axes>"
      ]
     },
     "metadata": {
      "needs_background": "light"
     },
     "output_type": "display_data"
    }
   ],
   "source": [
    "import matplotlib.pyplot as plt\n",
    "%matplotlib inline\n",
    "\n",
    "chart_x = list(range(1, number_of_features+1))\n",
    "\n",
    "plt.plot(chart_x, roc_auc_by_feature_number,\n",
    "        label = 'ROC AUC')\n",
    "\n",
    "plt.xlabel('Number of features')\n",
    "plt.ylabel('Accuracy (ROC AUC)')\n",
    "plt.legend()\n",
    "plt.grid(True)\n",
    "\n",
    "plt.show()"
   ]
  },
  {
   "cell_type": "markdown",
   "metadata": {},
   "source": [
    "From the above results it looks like we could use just 5-7 features in this model. It may also be worth examining the same method using other performance scores (such as simple accuracy, or f1) in place of ROC AUC.\n",
    "\n",
    "Note that accuracy of the model appears to decline with a greater number of features."
   ]
  }
 ],
 "metadata": {
  "kernelspec": {
   "display_name": "Python 3",
   "language": "python",
   "name": "python3"
  },
  "language_info": {
   "codemirror_mode": {
    "name": "ipython",
    "version": 3
   },
   "file_extension": ".py",
   "mimetype": "text/x-python",
   "name": "python",
   "nbconvert_exporter": "python",
   "pygments_lexer": "ipython3",
   "version": "3.7.3"
  }
 },
 "nbformat": 4,
 "nbformat_minor": 4
}
